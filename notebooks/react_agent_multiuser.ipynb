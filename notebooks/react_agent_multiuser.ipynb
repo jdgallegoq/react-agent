{
 "cells": [
  {
   "cell_type": "markdown",
   "metadata": {},
   "source": [
    "# ReAct Agent: multi user conversational.\n",
    "Solve the case when want to resume a conversation with the agent. This is done by using `persist checkpointing`. LangGraph provides a `checkpointer` to do so. It is also need needed a `SqliteSaver` helper which is going to save each `thread_id` separately."
   ]
  },
  {
   "cell_type": "code",
   "execution_count": 1,
   "metadata": {},
   "outputs": [],
   "source": [
    "import os\n",
    "from pathlib import Path\n",
    "from dotenv import load_dotenv, dotenv_values"
   ]
  },
  {
   "cell_type": "code",
   "execution_count": 2,
   "metadata": {},
   "outputs": [
    {
     "data": {
      "text/plain": [
       "True"
      ]
     },
     "execution_count": 2,
     "metadata": {},
     "output_type": "execute_result"
    }
   ],
   "source": [
    "load_dotenv(Path.cwd().parent / '.env')"
   ]
  },
  {
   "cell_type": "code",
   "execution_count": 3,
   "metadata": {},
   "outputs": [],
   "source": [
    "from typing import Annotated\n",
    "import requests\n",
    "\n",
    "from langchain_openai import ChatOpenAI\n",
    "from langchain_community.tools.tavily_search import TavilySearchResults\n",
    "from langchain_core.tools import tool\n",
    "from langchain_core.messages import BaseMessage\n",
    "from typing_extensions import TypedDict\n",
    "\n",
    "from langgraph.graph import StateGraph\n",
    "from langgraph.graph.message import add_messages\n",
    "from langgraph.prebuilt import ToolNode, tools_condition\n",
    "from langgraph.checkpoint.sqlite import SqliteSaver\n",
    "\n",
    "from IPython.display import Image, Markdown, display"
   ]
  },
  {
   "cell_type": "code",
   "execution_count": 4,
   "metadata": {},
   "outputs": [],
   "source": [
    "# define the memory to store conversations\n",
    "memory = SqliteSaver.from_conn_string(\"../memory.db\")"
   ]
  },
  {
   "cell_type": "code",
   "execution_count": 5,
   "metadata": {},
   "outputs": [],
   "source": [
    "# define a tavily search tool\n",
    "tv_search = TavilySearchResults(\n",
    "    max_results=3,\n",
    "    search_depth='advanced',\n",
    "    max_tokens=1e5\n",
    ")\n",
    "\n",
    "@tool\n",
    "def search_web(query: str) -> list:\n",
    "    \"\"\"Search the web for query\"\"\"\n",
    "    return tv_search.invoke(query)\n",
    "\n",
    "@tool\n",
    "def get_weather(query) -> list:\n",
    "    \"\"\"Seach weather API to get current weather\"\"\"\n",
    "    base_url = \"http://api.weatherapi.com/v1/current.json\"\n",
    "    complete_url = f\"{base_url}?key={os.getenv('WHEATER_API_KEY')}&q={query}\"\n",
    "\n",
    "    response = requests.get(complete_url)\n",
    "    data = response.json()\n",
    "    if data.get(\"location\"):\n",
    "        return data\n",
    "    else:\n",
    "        return \"Weather data not found\" "
   ]
  },
  {
   "cell_type": "code",
   "execution_count": 6,
   "metadata": {},
   "outputs": [],
   "source": [
    "class State(TypedDict):\n",
    "    \"\"\"\n",
    "    messages are a list, and add_messages is a function that adds a message to the list instead of\n",
    "    overwrite them.\n",
    "    \"\"\"\n",
    "    messages: Annotated[list, add_messages]\n",
    "\n",
    "# define base graph\n",
    "graph_builder = StateGraph(State)\n",
    "# define llm\n",
    "llm = ChatOpenAI(model=\"gpt-4o-mini\", temperature=0.0)\n",
    "# define tools to use\n",
    "tools = [search_web, get_weather]\n",
    "llm_with_tools = llm.bind_tools(tools)\n",
    "\n",
    "# now define chatbot\n",
    "def chatbot(state: State):\n",
    "    return {\"messages\": [llm_with_tools.invoke(state[\"messages\"])]}\n",
    "# add node to the graph\n",
    "graph_builder.add_node(\"chatbot\", chatbot)\n",
    "\n",
    "\n",
    "# add tools node\n",
    "tool_node = ToolNode(tools=tools)\n",
    "graph_builder.add_node(\"tools\", tool_node)\n",
    "\n",
    "# add conditional edges\n",
    "graph_builder.add_conditional_edges(\n",
    "    \"chatbot\",\n",
    "    tools_condition, # no need to define manually `route_tools`\n",
    "    {\"tools\": \"tools\", \"__end__\": \"__end__\"}\n",
    ")\n",
    "\n",
    "# add tools to chatbot\n",
    "graph_builder.add_edge(\"tools\", \"chatbot\")\n",
    "# define entry point\n",
    "graph_builder.set_entry_point(\"chatbot\")\n",
    "# compile\n",
    "graph = graph_builder.compile(checkpointer=memory) # define memory here as checkpointer\n"
   ]
  },
  {
   "cell_type": "code",
   "execution_count": 7,
   "metadata": {},
   "outputs": [
    {
     "data": {
      "image/jpeg": "[encoded data removed]",
      "text/plain": [
       "<IPython.core.display.Image object>"
      ]
     },
     "metadata": {},
     "output_type": "display_data"
    }
   ],
   "source": [
    "# check graph again\n",
    "display(Image(graph.get_graph().draw_mermaid_png()))"
   ]
  },
  {
   "cell_type": "code",
   "execution_count": 8,
   "metadata": {},
   "outputs": [],
   "source": [
    "# define a function to make graph chat based\n",
    "def chat_with_agent(prompt: str, session_id: str):\n",
    "    response = graph.invoke(\n",
    "        {\"messages\": (\"user\", prompt)},\n",
    "        {\"configurable\": {\"thread_id\": session_id}}\n",
    "    )\n",
    "    return response\n"
   ]
  },
  {
   "cell_type": "markdown",
   "metadata": {},
   "source": [
    "## Simulate users"
   ]
  },
  {
   "cell_type": "code",
   "execution_count": 9,
   "metadata": {},
   "outputs": [
    {
     "data": {
      "text/markdown": [
       "LangChain is an open-source framework designed to facilitate the development of applications powered by large language models (LLMs). It provides a structured approach to building applications that can leverage the capabilities of LLMs for various tasks, such as natural language processing, document analysis, and conversational agents.\n",
       "\n",
       "### Key Features of LangChain:\n",
       "\n",
       "1. **Modular Components**: LangChain consists of various building blocks, including chains, agents, and retrieval strategies, which help developers construct the cognitive architecture of their applications.\n",
       "\n",
       "2. **LangServe**: Introduced in October 2023, LangServe is a deployment tool that facilitates the transition from prototype applications to production-ready solutions.\n",
       "\n",
       "3. **Integrations**: The framework supports integrations with major cloud services (like Amazon, Google, and Microsoft Azure), various APIs (for news, weather, etc.), and databases (SQL, NoSQL, Redis). It also includes tools for web scraping and document summarization.\n",
       "\n",
       "4. **User Interaction**: LangChain allows users to interact with applications by asking questions. The framework processes these queries through similarity searches in vector databases to retrieve relevant information, which is then used to generate responses from the LLM.\n",
       "\n",
       "5. **Community and Development**: Launched in October 2022 by Harrison Chase, LangChain has quickly gained popularity, attracting contributions from a large community of developers. It has received significant funding, indicating strong interest in its potential.\n",
       "\n",
       "### Use Cases:\n",
       "\n",
       "LangChain can be applied in various domains, including:\n",
       "\n",
       "- **Chatbots and Conversational Agents**: Building intelligent systems that can engage in natural conversations with users.\n",
       "- **Document Analysis and Summarization**: Extracting key information from documents and summarizing content for easier understanding.\n",
       "- **Code Analysis and Generation**: Assisting developers by analyzing code, generating snippets, and debugging.\n",
       "- **Information Retrieval**: Performing similarity searches to retrieve relevant data based on user queries.\n",
       "- **Task Automation**: Streamlining workflows by automating repetitive tasks through integrations with various tools and services.\n",
       "\n",
       "Overall, LangChain serves as a powerful framework for developers looking to harness the capabilities of LLMs, enabling the creation of sophisticated applications across different industries."
      ],
      "text/plain": [
       "<IPython.core.display.Markdown object>"
      ]
     },
     "metadata": {},
     "output_type": "display_data"
    }
   ],
   "source": [
    "user_id = \"user_1\"\n",
    "prompt = \"Tell me about Langchain\"\n",
    "response = chat_with_agent(prompt, user_id)\n",
    "display(Markdown(response[\"messages\"][-1].content))"
   ]
  },
  {
   "cell_type": "code",
   "execution_count": 10,
   "metadata": {},
   "outputs": [
    {
     "data": {
      "text/markdown": [
       "LangChain is used for a variety of applications that leverage the capabilities of large language models (LLMs). Here are some common use cases:\n",
       "\n",
       "1. **Chatbots and Conversational Agents**: LangChain can be used to build intelligent chatbots that can understand and respond to user queries in a conversational manner.\n",
       "\n",
       "2. **Document Analysis and Summarization**: It allows for the extraction of key information from documents, summarizing content, and providing insights based on the text.\n",
       "\n",
       "3. **Code Analysis and Generation**: Developers can use LangChain to analyze code, generate code snippets, and assist in debugging processes.\n",
       "\n",
       "4. **Information Retrieval**: LangChain can perform similarity searches in vector databases to retrieve relevant information based on user queries, making it useful for knowledge management systems.\n",
       "\n",
       "5. **Data Integration**: It integrates with various APIs and data sources, enabling applications to pull in data from different platforms for analysis or reporting.\n",
       "\n",
       "6. **Task Automation**: LangChain can automate repetitive tasks by integrating with tools and services, streamlining workflows.\n",
       "\n",
       "7. **Multi-Actor Applications**: It supports the development of stateful applications where multiple actors can interact, making it suitable for complex applications that require collaboration.\n",
       "\n",
       "8. **Learning and Education**: LangChain can be used to create educational tools that provide explanations, answer questions, and assist with learning new concepts.\n",
       "\n",
       "Overall, LangChain serves as a powerful framework for developers looking to harness the potential of LLMs in various domains, enhancing the capabilities of applications across industries."
      ],
      "text/plain": [
       "<IPython.core.display.Markdown object>"
      ]
     },
     "metadata": {},
     "output_type": "display_data"
    }
   ],
   "source": [
    "# continue conversation following subject\n",
    "prompt = \"What is it used for?\"\n",
    "response = chat_with_agent(prompt, user_id)\n",
    "display(Markdown(response[\"messages\"][-1].content))"
   ]
  },
  {
   "cell_type": "code",
   "execution_count": null,
   "metadata": {},
   "outputs": [],
   "source": [
    "# TODO - test this cell\n",
    "# try it with another user\n",
    "user_id = \"user_2\"\n",
    "prompt = \"What's the weather in Bogotá?\"\n",
    "response = chat_with_agent(prompt, user_id)\n",
    "display(Markdown(response[\"messages\"][-1].content))"
   ]
  },
  {
   "cell_type": "markdown",
   "metadata": {},
   "source": []
  }
 ],
 "metadata": {
  "kernelspec": {
   "display_name": "llm",
   "language": "python",
   "name": "python3"
  },
  "language_info": {
   "codemirror_mode": {
    "name": "ipython",
    "version": 3
   },
   "file_extension": ".py",
   "mimetype": "text/x-python",
   "name": "python",
   "nbconvert_exporter": "python",
   "pygments_lexer": "ipython3",
   "version": "3.9.16"
  }
 },
 "nbformat": 4,
 "nbformat_minor": 2
}
