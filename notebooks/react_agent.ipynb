{
 "cells": [
  {
   "cell_type": "markdown",
   "metadata": {},
   "source": [
    "# ReAct Agent\n",
    "Notebook for exploration of a basic ReAct agent."
   ]
  },
  {
   "cell_type": "code",
   "execution_count": 1,
   "metadata": {},
   "outputs": [],
   "source": [
    "import os\n",
    "from pathlib import Path\n",
    "from dotenv import load_dotenv, dotenv_values"
   ]
  },
  {
   "cell_type": "code",
   "execution_count": 2,
   "metadata": {},
   "outputs": [
    {
     "data": {
      "text/plain": [
       "True"
      ]
     },
     "execution_count": 2,
     "metadata": {},
     "output_type": "execute_result"
    }
   ],
   "source": [
    "load_dotenv(Path.cwd().parent / '.env')"
   ]
  },
  {
   "cell_type": "markdown",
   "metadata": {},
   "source": [
    "## Basic ChatBot structure\n",
    "* `StateGraph` will define the chatbot structure as 'state machine'\n",
    "* `nodes` will be the functions calling\n",
    "* `edges` how the chatbot will transition between functions"
   ]
  },
  {
   "cell_type": "code",
   "execution_count": 3,
   "metadata": {},
   "outputs": [],
   "source": [
    "from typing import Annotated\n",
    "from typing_extensions import TypedDict\n",
    "from langgraph.graph import StateGraph\n",
    "from langgraph.graph.message import add_messages"
   ]
  },
  {
   "cell_type": "code",
   "execution_count": 4,
   "metadata": {},
   "outputs": [],
   "source": [
    "class State(TypedDict):\n",
    "    \"\"\"\n",
    "    messages are a list, and add_messages is a function that adds a message to the list instead of\n",
    "    overwrite them.\n",
    "    \"\"\"\n",
    "    messages: Annotated[list, add_messages]\n",
    "\n",
    "graph_builder = StateGraph(State)"
   ]
  },
  {
   "cell_type": "code",
   "execution_count": 5,
   "metadata": {},
   "outputs": [],
   "source": [
    "from langchain_openai import ChatOpenAI\n",
    "\n",
    "chatgpt = ChatOpenAI(model=\"gpt-4o-mini\", temperature=0.0)\n",
    "\n",
    "def chatbot(state: State):\n",
    "    return {\"messages\": [chatgpt.invoke(state[\"messages\"])]}\n",
    "\n",
    "# now start defining nodes to the graph\n",
    "graph_builder.add_node(\"chatbot\", chatbot)"
   ]
  },
  {
   "cell_type": "code",
   "execution_count": 6,
   "metadata": {},
   "outputs": [],
   "source": [
    "# after defining the first node, need to define the initial state\n",
    "# it means where to start svery time the graph is called\n",
    "graph_builder.set_entry_point(\"chatbot\")\n",
    "\n",
    "# and define the end state as well\n",
    "# in this way the ghaph will stop when the end state is reached\n",
    "graph_builder.set_finish_point(\"chatbot\")\n",
    "\n",
    "# last step is to compile the graph\n",
    "graph = graph_builder.compile()"
   ]
  },
  {
   "cell_type": "code",
   "execution_count": 7,
   "metadata": {},
   "outputs": [
    {
     "data": {
      "image/jpeg": "[encoded data removed]",
      "text/plain": [
       "<IPython.core.display.Image object>"
      ]
     },
     "metadata": {},
     "output_type": "display_data"
    }
   ],
   "source": [
    "from IPython.display import display, Image, Markdown\n",
    "\n",
    "display(Image(graph.get_graph().draw_mermaid_png()))"
   ]
  },
  {
   "cell_type": "code",
   "execution_count": 8,
   "metadata": {},
   "outputs": [],
   "source": [
    "# test the graph\n",
    "prompt = \"What's the largest mammal in the world?\"\n",
    "response = graph.invoke({\"messages\": (\"user\", prompt)})"
   ]
  },
  {
   "cell_type": "code",
   "execution_count": 9,
   "metadata": {},
   "outputs": [
    {
     "data": {
      "text/plain": [
       "{'messages': [HumanMessage(content=\"What's the largest mammal in the world?\", id='afb10ecf-74f0-437e-a75b-2b15bca6d9ee'),\n",
       "  AIMessage(content='The largest mammal in the world is the blue whale (*Balaenoptera musculus*). Adult blue whales can reach lengths of up to 100 feet (30 meters) and can weigh as much as 200 tons or more. They are known for their immense size and are found in oceans around the globe.', response_metadata={'token_usage': {'completion_tokens': 66, 'prompt_tokens': 16, 'total_tokens': 82, 'completion_tokens_details': {'accepted_prediction_tokens': 0, 'audio_tokens': 0, 'reasoning_tokens': 0, 'rejected_prediction_tokens': 0}, 'prompt_tokens_details': {'audio_tokens': 0, 'cached_tokens': 0}}, 'model_name': 'gpt-4o-mini', 'system_fingerprint': 'fp_72ed7ab54c', 'finish_reason': 'stop', 'logprobs': None}, id='run-4bbd1257-2dd2-4e83-bd02-4ed6e7b76dfd-0')]}"
      ]
     },
     "execution_count": 9,
     "metadata": {},
     "output_type": "execute_result"
    }
   ],
   "source": [
    "response"
   ]
  },
  {
   "cell_type": "code",
   "execution_count": 10,
   "metadata": {},
   "outputs": [
    {
     "data": {
      "text/markdown": [
       "The largest mammal in the world is the blue whale (*Balaenoptera musculus*). Adult blue whales can reach lengths of up to 100 feet (30 meters) and can weigh as much as 200 tons or more. They are known for their immense size and are found in oceans around the globe."
      ],
      "text/plain": [
       "<IPython.core.display.Markdown object>"
      ]
     },
     "metadata": {},
     "output_type": "display_data"
    }
   ],
   "source": [
    "# display in markdown\n",
    "display(Markdown(response[\"messages\"][-1].content))"
   ]
  },
  {
   "cell_type": "markdown",
   "metadata": {},
   "source": [
    "## Add Tools to the graph."
   ]
  },
  {
   "cell_type": "code",
   "execution_count": 11,
   "metadata": {},
   "outputs": [],
   "source": [
    "from langchain_community.tools.tavily_search import TavilySearchResults\n",
    "from langchain_core.tools import tool\n",
    "import requests\n",
    "\n",
    "# define a tavily search tool\n",
    "tv_search = TavilySearchResults(\n",
    "    max_results=3,\n",
    "    search_depth='advanced',\n",
    "    max_tokens=1e5\n",
    ")\n",
    "\n",
    "@tool\n",
    "def search_web(query: str) -> list:\n",
    "    \"\"\"Search the web for query\"\"\"\n",
    "    return tv_search.invoke(query)\n",
    "\n",
    "@tool\n",
    "def get_weather(query) -> list:\n",
    "    \"\"\"Seach weather API to get current weather\"\"\"\n",
    "    base_url = \"http://api.weatherapi.com/v1/current.json\"\n",
    "    complete_url = f\"{base_url}?key={os.getenv('WHEATER_API_KEY')}&q={query}\"\n",
    "\n",
    "    response = requests.get(complete_url)\n",
    "    data = response.json()\n",
    "    if data.get(\"location\"):\n",
    "        return data\n",
    "    else:\n",
    "        return \"Weather data not found\" "
   ]
  },
  {
   "cell_type": "markdown",
   "metadata": {},
   "source": [
    "### Create Grahp with tools"
   ]
  },
  {
   "cell_type": "code",
   "execution_count": 12,
   "metadata": {},
   "outputs": [],
   "source": [
    "class State(TypedDict):\n",
    "    \"\"\"\n",
    "    messages are a list, and add_messages is a function that adds a message to the list instead of\n",
    "    overwrite them.\n",
    "    \"\"\"\n",
    "    messages: Annotated[list, add_messages]\n",
    "\n",
    "# define base graph\n",
    "graph_builder = StateGraph(State)\n",
    "# define llm\n",
    "llm = ChatOpenAI(model=\"gpt-4o-mini\", temperature=0.0)\n",
    "# define tools to use\n",
    "tools = [search_web, get_weather]\n",
    "llm_with_tools = llm.bind_tools(tools)\n",
    "\n",
    "# now define chatbot\n",
    "def chatbot(state: State):\n",
    "    return {\"messages\": [llm_with_tools.invoke(state[\"messages\"])]}\n",
    "# add node to the graph\n",
    "graph_builder.add_node(\"chatbot\", chatbot)"
   ]
  },
  {
   "cell_type": "code",
   "execution_count": 13,
   "metadata": {},
   "outputs": [],
   "source": [
    "import json\n",
    "from langchain_core.messages import ToolMessage\n",
    "\n",
    "# need to add tools to new nodes, in this way tools will be called\n",
    "class BasicToolNode:\n",
    "    \"\"\"Node that runs the tools requested in the las AIMessage.\"\"\"\n",
    "    def __init__(self, tools:list):\n",
    "        self.tools_by_name = {tool.name: tool for tool in tools}\n",
    "    def __call__(self, inputs:dict):\n",
    "        if messages := inputs.get(\"messages\", []):\n",
    "            # get most recent message\n",
    "            message = messages[-1]\n",
    "        else:\n",
    "            raise ValueError(\"No messages in inputs\")\n",
    "\n",
    "        outputs = []\n",
    "        for tool_call in message.tool_calls:\n",
    "            tool_result = self.tools_by_name[tool_call[\"name\"]].invoke(\n",
    "                tool_call[\"args\"],\n",
    "            )\n",
    "            outputs.append(\n",
    "                ToolMessage(\n",
    "                    content=json.dumps(tool_result),\n",
    "                    name=tool_call[\"name\"],\n",
    "                    tool_call_id=tool_call[\"id\"]\n",
    "                )\n",
    "            )\n",
    "        \n",
    "        return {\"messages\": outputs}\n",
    "\n",
    "# add node to the graph\n",
    "tool_node = BasicToolNode(tools=tools)\n",
    "graph_builder.add_node(\"tools\", tool_node)"
   ]
  },
  {
   "cell_type": "code",
   "execution_count": 14,
   "metadata": {},
   "outputs": [],
   "source": [
    "from typing import Literal\n",
    "\n",
    "# now need to define the conditional edges, which are going to be\n",
    "# the ways to go from one node to another, depending on the tool calling\n",
    "# for this a function called route_tools is going to be defined that checks for\n",
    "# the tool calling.\n",
    "\n",
    "def route_tools(state: State) -> Literal[\"tools\", \"__end__\"]:\n",
    "    \"\"\"\n",
    "    Route edge if tools are called in the last meesage.\n",
    "    Otherwise, end the graph.\n",
    "    \"\"\"\n",
    "    if isinstance(state, list):\n",
    "        ai_message = state[-1]\n",
    "    elif messages := state.get(\"messages\", []):\n",
    "        ai_message = messages[-1]\n",
    "    else:\n",
    "        raise ValueError(f\"No messages in state to tool_edge: {state}\")\n",
    "\n",
    "    # check if messages has the \"tool_call\" attribute\n",
    "    if hasattr(ai_message, \"tool_calls\") and len(ai_message.tool_calls) > 0:\n",
    "        return \"tools\"\n",
    "    # if has no tool calling then just end the graph\n",
    "    return \"__end__\"\n"
   ]
  },
  {
   "cell_type": "code",
   "execution_count": 15,
   "metadata": {},
   "outputs": [],
   "source": [
    "# this conditional rote defines the main agent loop\n",
    "graph_builder.add_conditional_edges(\n",
    "    \"chatbot\",\n",
    "    route_tools\n",
    ")"
   ]
  },
  {
   "cell_type": "code",
   "execution_count": 16,
   "metadata": {},
   "outputs": [],
   "source": [
    "# any time a tool is called, we return to the chatbot to decide the next step\n",
    "graph_builder.add_edge(\"tools\", \"chatbot\")\n",
    "# set entry point\n",
    "graph_builder.set_entry_point(\"chatbot\")\n",
    "# now compile agent\n",
    "graph = graph_builder.compile()"
   ]
  },
  {
   "cell_type": "code",
   "execution_count": 17,
   "metadata": {},
   "outputs": [
    {
     "data": {
      "image/jpeg": "[encoded data removed]",
      "text/plain": [
       "<IPython.core.display.Image object>"
      ]
     },
     "metadata": {},
     "output_type": "display_data"
    }
   ],
   "source": [
    "# check the current flow\n",
    "display(Image(graph.get_graph().draw_mermaid_png()))"
   ]
  },
  {
   "cell_type": "code",
   "execution_count": 18,
   "metadata": {},
   "outputs": [
    {
     "data": {
      "text/markdown": [
       "The largest mammal in the world is the blue whale (*Balaenoptera musculus*). Blue whales can reach lengths of up to 100 feet (30 meters) and can weigh as much as 200 tons or more. They are known for their immense size and are found in oceans around the globe."
      ],
      "text/plain": [
       "<IPython.core.display.Markdown object>"
      ]
     },
     "metadata": {},
     "output_type": "display_data"
    }
   ],
   "source": [
    "# test new agent\n",
    "prompt = \"What's the largest mammal in the world?\"\n",
    "response = graph.invoke({\"messages\": (\"user\", prompt)})\n",
    "display(Markdown(response[\"messages\"][-1].content))"
   ]
  },
  {
   "cell_type": "code",
   "execution_count": null,
   "metadata": {},
   "outputs": [
    {
     "data": {
      "text/markdown": [
       "Langraph is a library within the LangChain ecosystem designed to simplify the development of complex, multi-agent large language model (LLM) applications. It provides a controllable cognitive architecture that supports diverse and complex tasks, featuring stateful, multi-agent, and streaming capabilities. \n",
       "\n",
       "Key features of Langraph include:\n",
       "\n",
       "1. **Hierarchical Retrieval and Generation**: It employs a hierarchical approach to querying and generating responses, which allows for handling complex multi-turn conversations effectively.\n",
       "\n",
       "2. **Enhanced Retrieval Techniques**: Langraph utilizes techniques like Hypothetical Question Generation (HyDE) to improve information retrieval.\n",
       "\n",
       "3. **Scalability and Flexibility**: It offers developers the tools and infrastructure needed to build scalable and flexible AI applications.\n",
       "\n",
       "Overall, Langraph is aimed at creating advanced AI systems that require both information retrieval and language generation capabilities."
      ],
      "text/plain": [
       "<IPython.core.display.Markdown object>"
      ]
     },
     "metadata": {},
     "output_type": "display_data"
    }
   ],
   "source": [
    "# test new agent\n",
    "prompt = \"What's Langraph?\"\n",
    "response = graph.invoke({\"messages\": (\"user\", prompt)})\n",
    "display(Markdown(response[\"messages\"][-1].content))"
   ]
  },
  {
   "cell_type": "code",
   "execution_count": null,
   "metadata": {},
   "outputs": [
    {
     "data": {
      "text/markdown": [
       "The current weather in New York City is as follows:\n",
       "\n",
       "- **Temperature**: 1.7°C (35.1°F)\n",
       "- **Condition**: Clear\n",
       "- **Wind**: 6.5 mph (10.4 kph) from the Northwest\n",
       "- **Humidity**: 35%\n",
       "- **Feels Like**: -1.4°C (29.5°F)\n",
       "- **Visibility**: 16 km (9 miles)\n",
       "\n",
       "No precipitation is expected, and the pressure is 1006 mb."
      ],
      "text/plain": [
       "<IPython.core.display.Markdown object>"
      ]
     },
     "metadata": {},
     "output_type": "display_data"
    }
   ],
   "source": [
    "# test new agent\n",
    "prompt = \"What is the weather in NYC?\"\n",
    "response = graph.invoke({\"messages\": (\"user\", prompt)})\n",
    "display(Markdown(response[\"messages\"][-1].content))"
   ]
  },
  {
   "cell_type": "markdown",
   "metadata": {},
   "source": [
    "## Build agent with LangGraph built-ins: Recommended Flow "
   ]
  },
  {
   "cell_type": "code",
   "execution_count": 23,
   "metadata": {},
   "outputs": [],
   "source": [
    "from typing import Annotated\n",
    "\n",
    "from langchain_core.messages import BaseMessage\n",
    "from langgraph.prebuilt import ToolNode, tools_condition"
   ]
  },
  {
   "cell_type": "code",
   "execution_count": 24,
   "metadata": {},
   "outputs": [],
   "source": [
    "class State(TypedDict):\n",
    "    messages: Annotated[list, add_messages]\n",
    "\n",
    "# start graph building\n",
    "graph_builder = StateGraph(State)\n",
    "# add tools  and bind to LLM\n",
    "tools = [search_web, get_weather]\n",
    "llm = ChatOpenAI(model=\"gpt-4o-mini\", temperature=0.0)\n",
    "llm_with_tools = llm.bind_tools(tools)\n",
    "\n",
    "# add llm to graph\n",
    "def chatbot(state: State):\n",
    "    return {\"messages\": [llm_with_tools.invoke(state[\"messages\"])]}\n",
    "graph_builder.add_node(\"chatbot\", chatbot)\n",
    "\n",
    "# add tools node\n",
    "tool_node = ToolNode(tools=tools) # no need to define `BasicToolNode`\n",
    "graph_builder.add_node(\"tools\", tool_node)\n",
    "\n",
    "\n",
    "# add conditional edges\n",
    "graph_builder.add_conditional_edges(\n",
    "    \"chatbot\",\n",
    "    tools_condition, # no need to define manually `route_tools`\n",
    "    {\"tools\": \"tools\", \"__end__\": \"__end__\"}\n",
    ")\n",
    "# add tools to chatbot\n",
    "graph_builder.add_edge(\"tools\", \"chatbot\")\n",
    "# define entry point\n",
    "graph_builder.set_entry_point(\"chatbot\")\n",
    "# compile\n",
    "graph = graph_builder.compile()\n"
   ]
  },
  {
   "cell_type": "code",
   "execution_count": 25,
   "metadata": {},
   "outputs": [
    {
     "data": {
      "image/jpeg": "[encoded data removed]",
      "text/plain": [
       "<IPython.core.display.Image object>"
      ]
     },
     "metadata": {},
     "output_type": "display_data"
    }
   ],
   "source": [
    "# check graph again\n",
    "display(Image(graph.get_graph().draw_mermaid_png()))"
   ]
  },
  {
   "cell_type": "code",
   "execution_count": 26,
   "metadata": {},
   "outputs": [
    {
     "data": {
      "text/markdown": [
       "Langraph is a library within the LangChain ecosystem designed to simplify the development of complex, multi-agent large language model (LLM) applications. It provides a controllable cognitive architecture that supports diverse and complex tasks, featuring stateful, multi-agent, and streaming capabilities. \n",
       "\n",
       "Key features of Langraph include:\n",
       "\n",
       "1. **Hierarchical Retrieval and Generation**: It employs a hierarchical approach to querying and generating responses, which allows for handling complex multi-turn conversations effectively.\n",
       "\n",
       "2. **Enhanced Retrieval Techniques**: Langraph enhances information retrieval using methods like Hypothetical Question Generation (HyDE), which helps in generating relevant and context-aware responses.\n",
       "\n",
       "3. **Scalability and Flexibility**: It offers developers the tools and infrastructure needed to build scalable and flexible AI applications, making it suitable for next-generation AI systems.\n",
       "\n",
       "For more detailed information, you can check out the following resources:\n",
       "- [Comprehensive Guide to Langraph](https://medium.com/@jagadeesan.ganesh/a-comprehensive-guide-to-langraph-step-by-step-with-examples-56ab31a987ee)\n",
       "- [LangGraph Tutorial on DataCamp](https://www.datacamp.com/tutorial/langgraph-tutorial)\n",
       "- [LangGraph Official Page](https://www.langchain.com/langgraph)"
      ],
      "text/plain": [
       "<IPython.core.display.Markdown object>"
      ]
     },
     "metadata": {},
     "output_type": "display_data"
    }
   ],
   "source": [
    "# test new agent\n",
    "prompt = \"What's Langraph?\"\n",
    "response = graph.invoke({\"messages\": (\"user\", prompt)})\n",
    "display(Markdown(response[\"messages\"][-1].content))"
   ]
  },
  {
   "cell_type": "code",
   "execution_count": null,
   "metadata": {},
   "outputs": [],
   "source": [
    "# EOF"
   ]
  }
 ],
 "metadata": {
  "kernelspec": {
   "display_name": "llm",
   "language": "python",
   "name": "python3"
  },
  "language_info": {
   "codemirror_mode": {
    "name": "ipython",
    "version": 3
   },
   "file_extension": ".py",
   "mimetype": "text/x-python",
   "name": "python",
   "nbconvert_exporter": "python",
   "pygments_lexer": "ipython3",
   "version": "3.9.16"
  }
 },
 "nbformat": 4,
 "nbformat_minor": 2
}
