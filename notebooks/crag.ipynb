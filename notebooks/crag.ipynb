{
 "cells": [
  {
   "cell_type": "markdown",
   "metadata": {},
   "source": [
    "# Corrective Retrieval Augmented Generation\n",
    "\n",
    "Going to create a Wikipedia document search."
   ]
  },
  {
   "cell_type": "code",
   "execution_count": 1,
   "metadata": {},
   "outputs": [],
   "source": [
    "import os\n",
    "from pathlib import Path\n",
    "from dotenv import load_dotenv"
   ]
  },
  {
   "cell_type": "code",
   "execution_count": 2,
   "metadata": {},
   "outputs": [
    {
     "data": {
      "text/plain": [
       "True"
      ]
     },
     "execution_count": 2,
     "metadata": {},
     "output_type": "execute_result"
    }
   ],
   "source": [
    "load_dotenv(Path.cwd().parent / \".env\")"
   ]
  },
  {
   "cell_type": "markdown",
   "metadata": {},
   "source": [
    "## Import embeddings"
   ]
  },
  {
   "cell_type": "code",
   "execution_count": 3,
   "metadata": {},
   "outputs": [],
   "source": [
    "from langchain_openai import OpenAIEmbeddings\n",
    "openai_embeddings = OpenAIEmbeddings(model=\"text-embedding-3-small\")"
   ]
  },
  {
   "cell_type": "markdown",
   "metadata": {},
   "source": [
    "## Get Wikipedia data"
   ]
  },
  {
   "cell_type": "code",
   "execution_count": 4,
   "metadata": {},
   "outputs": [],
   "source": [
    "import gzip\n",
    "import json\n",
    "from langchain.docstore.document import Document\n",
    "from langchain.text_splitter import RecursiveCharacterTextSplitter"
   ]
  },
  {
   "cell_type": "code",
   "execution_count": 18,
   "metadata": {},
   "outputs": [],
   "source": [
    "wikipedia_filepath = \"../datasets/simplewiki-2020-11-01.jsonl.tar.gz\""
   ]
  },
  {
   "cell_type": "code",
   "execution_count": 20,
   "metadata": {},
   "outputs": [],
   "source": [
    "# start chunking\n",
    "docs = []\n",
    "with gzip.open(wikipedia_filepath, 'rt', encoding='utf8') as fIn:\n",
    "    for line in fIn:\n",
    "        data = json.loads(line.strip())\n",
    "        docs.append({\n",
    "            \"metadata\": {\n",
    "                \"title\": data.get(\"title\"),\n",
    "                \"article_id\": data.get(\"id\")\n",
    "            },\n",
    "            \"data\": ' '.join(data.get(\"paragraphs\")[0:3])\n",
    "        })\n",
    "# to run things faster get a subset of docs\n",
    "docs = [doc for doc in docs for x in ['india'] if x in doc[\"data\"].lower().split()]\n",
    "# create docs object\n",
    "docs = [Document(\n",
    "    page_content=doc[\"data\"],\n",
    "    metadata=doc[\"metadata\"]\n",
    ") for doc in docs]\n",
    "# chunk\n",
    "splitter = RecursiveCharacterTextSplitter(chunk_size=2000, chunk_overlap=300)\n",
    "chunked_docs = splitter.split_documents(docs)"
   ]
  },
  {
   "cell_type": "code",
   "execution_count": 21,
   "metadata": {},
   "outputs": [
    {
     "data": {
      "text/plain": [
       "1322"
      ]
     },
     "execution_count": 21,
     "metadata": {},
     "output_type": "execute_result"
    }
   ],
   "source": [
    "len(chunked_docs)"
   ]
  },
  {
   "cell_type": "code",
   "execution_count": 22,
   "metadata": {},
   "outputs": [
    {
     "data": {
      "text/plain": [
       "[Document(metadata={'title': 'Basil', 'article_id': '73985'}, page_content='Basil (\"Ocimum basilicum\") ( or ) is a plant of the Family Lamiaceae. It is also known as Sweet Basil or Tulsi. It is a tender low-growing herb that is grown as a perennial in warm, tropical climates. Basil is originally native to India and other tropical regions of Asia. It has been cultivated there for more than 5,000 years. It is prominently featured in many cuisines throughout the world. Some of them are Italian, Thai, Vietnamese and Laotian cuisines. It grows to between 30–60\\xa0cm tall. It has light green, silky leaves 3–5\\xa0cm long and 1–3\\xa0cm broad. The leaves are opposite each other. The flowers are quite big. They are white in color and arranged as a spike. The plant tastes somewhat like anise, with a strong, pungent, sweet smell. Basil is very sensitive to cold. It is best grown in hot, dry conditions. While most common varieties are treated as annuals, some are perennial, including African Blue and Holy Thai basil. The word \"basil\" comes from the Greek βασιλεύς (\"basileus\"), meaning \"royal\". This is because it is believed to have grown above the spot where St. Constantine and Helen discovered the Holy Cross. The \"Oxford English Dictionary\" quotes speculations that basil may have been used in \"some royal unguent, bath, or medicine\". Basil is still considered the \"king of herbs\" by many cookery authors. An alternative etymology has \"basil\" coming from the Latin word \"basilicus\", meaning dragon and being the root for basilisk, but this likely was a linguistic reworking of the word as brought from Greece.'),\n",
       " Document(metadata={'title': 'Roerich’s Pact', 'article_id': '259745'}, page_content='The Roerich Pact is a treaty on Protection of Artistic and Scientific Institutions and Historic Monuments, signed by the representatives of 21 states in the Oval Office of the White House on 15 April 1935. As of January 1, 1990, the Roerich Pact had been ratified by ten nations: Brazil, Chile, Colombia, Cuba, the Dominican Republic, El Salvador, Guatemala, Mexico, the United States, and Venezuela. It went into effect on 26 August 1935. The Government of India approved the Treaty in 1948, but did not take any further formal action. The Roerich Pact is also known as \"Pax Cultura\" (\"Cultural Peace\" or \"Peace through Culture\"). The most important part of the Roerich Pact is the legal recognition that the protection of culture is always more important than any military necessity. Russian painter and philosopher Nicholas Roerich (1874-1947) started the modern movement for the defense of cultural objects, in order for a “Peace of Civilizations”. Nicholas Roerich was born on October 9, 1874, in St. Petersburg. He became a successful painter. One of his paintings was purchased by Nicholas II of Russia.'),\n",
       " Document(metadata={'title': 'Nico Hülkenberg', 'article_id': '260252'}, page_content='Nicolas \"Nico\" Hülkenberg (born 19 August 1987 in Emmerich am Rhein, North Rhine-Westphalia) is a German racing driver. He races in Formula One for Williams. He won the 2009 GP2 Series championship. He is a past champion in Formula Three Euroseries and the A1 Grand Prix, as part of A1 Team Germany. He is one of three drivers to win the GP2 series championship in his first season. The other two are Lewis Hamilton and Nico Rosberg. Hülkenberg earned his first pole position at the Brazilian Grand Prix. His lap time was over one second faster than second place Sebastian Vettel on a drying circuit. It was the first pole for Williams in 100 races, since the European Grand Prix. After the Abu Dhabi GP, it was announced that Hülkenberg would not race for Williams in 2011. For the season, he is the third driver for the Force India team.')]"
      ]
     },
     "execution_count": 22,
     "metadata": {},
     "output_type": "execute_result"
    }
   ],
   "source": [
    "chunked_docs[:3]"
   ]
  },
  {
   "cell_type": "markdown",
   "metadata": {},
   "source": [
    "## Create a Vector DB and persist on disk"
   ]
  },
  {
   "cell_type": "code",
   "execution_count": 23,
   "metadata": {},
   "outputs": [],
   "source": [
    "from langchain_chroma import Chroma"
   ]
  },
  {
   "cell_type": "code",
   "execution_count": 24,
   "metadata": {},
   "outputs": [],
   "source": [
    "# create a vector db\n",
    "chroma_db = Chroma.from_documents(\n",
    "    documents=chunked_docs,\n",
    "    collection_name='rag_wikipedia_db',\n",
    "    embedding=openai_embeddings,\n",
    "    collection_metadata={\"hnsw:space\": \"cosine\"},\n",
    "    persist_directory=\"../wikipedia_db\"\n",
    ")"
   ]
  },
  {
   "cell_type": "markdown",
   "metadata": {},
   "source": [
    "### Define a retrieval"
   ]
  },
  {
   "cell_type": "code",
   "execution_count": 25,
   "metadata": {},
   "outputs": [],
   "source": [
    "similarity_threshold_retriever = chroma_db.as_retriever(\n",
    "    search_type=\"similarity_score_threshold\",\n",
    "    search_kwargs={\n",
    "        \"k\": 0.5,\n",
    "        \"score_threshold\": 0.3\n",
    "    }\n",
    ")"
   ]
  },
  {
   "cell_type": "markdown",
   "metadata": {},
   "source": []
  }
 ],
 "metadata": {
  "kernelspec": {
   "display_name": "llm",
   "language": "python",
   "name": "python3"
  },
  "language_info": {
   "codemirror_mode": {
    "name": "ipython",
    "version": 3
   },
   "file_extension": ".py",
   "mimetype": "text/x-python",
   "name": "python",
   "nbconvert_exporter": "python",
   "pygments_lexer": "ipython3",
   "version": "3.9.16"
  }
 },
 "nbformat": 4,
 "nbformat_minor": 2
}
