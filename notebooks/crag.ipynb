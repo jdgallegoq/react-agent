{
 "cells": [
  {
   "cell_type": "markdown",
   "metadata": {},
   "source": [
    "# Corrective Retrieval Augmented Generation\n",
    "\n",
    "Going to create a Wikipedia document search."
   ]
  },
  {
   "cell_type": "code",
   "execution_count": 1,
   "metadata": {},
   "outputs": [],
   "source": [
    "import os\n",
    "from pathlib import Path\n",
    "from dotenv import load_dotenv"
   ]
  },
  {
   "cell_type": "code",
   "execution_count": 2,
   "metadata": {},
   "outputs": [
    {
     "data": {
      "text/plain": [
       "True"
      ]
     },
     "execution_count": 2,
     "metadata": {},
     "output_type": "execute_result"
    }
   ],
   "source": [
    "load_dotenv(Path.cwd().parent / \".env\")"
   ]
  },
  {
   "cell_type": "markdown",
   "metadata": {},
   "source": [
    "## Import embeddings"
   ]
  },
  {
   "cell_type": "code",
   "execution_count": 3,
   "metadata": {},
   "outputs": [],
   "source": [
    "from langchain_openai import OpenAIEmbeddings\n",
    "openai_embeddings = OpenAIEmbeddings(model=\"text-embedding-3-small\")"
   ]
  },
  {
   "cell_type": "markdown",
   "metadata": {},
   "source": [
    "## Get Wikipedia data"
   ]
  },
  {
   "cell_type": "code",
   "execution_count": 4,
   "metadata": {},
   "outputs": [],
   "source": [
    "import gzip\n",
    "import json\n",
    "from langchain.docstore.document import Document\n",
    "from langchain.text_splitter import RecursiveCharacterTextSplitter"
   ]
  },
  {
   "cell_type": "code",
   "execution_count": 5,
   "metadata": {},
   "outputs": [],
   "source": [
    "wikipedia_filepath = \"../datasets/simplewiki-2020-11-01.jsonl.tar.gz\""
   ]
  },
  {
   "cell_type": "code",
   "execution_count": 6,
   "metadata": {},
   "outputs": [],
   "source": [
    "# start chunking\n",
    "docs = []\n",
    "with gzip.open(wikipedia_filepath, 'rt', encoding='utf8') as fIn:\n",
    "    for line in fIn:\n",
    "        data = json.loads(line.strip())\n",
    "        docs.append({\n",
    "            \"metadata\": {\n",
    "                \"title\": data.get(\"title\"),\n",
    "                \"article_id\": data.get(\"id\")\n",
    "            },\n",
    "            \"data\": ' '.join(data.get(\"paragraphs\")[0:3])\n",
    "        })\n",
    "# to run things faster get a subset of docs\n",
    "docs = [doc for doc in docs for x in ['india'] if x in doc[\"data\"].lower().split()]\n",
    "# create docs object\n",
    "docs = [Document(\n",
    "    page_content=doc[\"data\"],\n",
    "    metadata=doc[\"metadata\"]\n",
    ") for doc in docs]\n",
    "# chunk\n",
    "splitter = RecursiveCharacterTextSplitter(chunk_size=2000, chunk_overlap=300)\n",
    "chunked_docs = splitter.split_documents(docs)"
   ]
  },
  {
   "cell_type": "code",
   "execution_count": 7,
   "metadata": {},
   "outputs": [
    {
     "data": {
      "text/plain": [
       "1322"
      ]
     },
     "execution_count": 7,
     "metadata": {},
     "output_type": "execute_result"
    }
   ],
   "source": [
    "len(chunked_docs)"
   ]
  },
  {
   "cell_type": "code",
   "execution_count": 8,
   "metadata": {},
   "outputs": [
    {
     "data": {
      "text/plain": [
       "[Document(metadata={'title': 'Basil', 'article_id': '73985'}, page_content='Basil (\"Ocimum basilicum\") ( or ) is a plant of the Family Lamiaceae. It is also known as Sweet Basil or Tulsi. It is a tender low-growing herb that is grown as a perennial in warm, tropical climates. Basil is originally native to India and other tropical regions of Asia. It has been cultivated there for more than 5,000 years. It is prominently featured in many cuisines throughout the world. Some of them are Italian, Thai, Vietnamese and Laotian cuisines. It grows to between 30–60\\xa0cm tall. It has light green, silky leaves 3–5\\xa0cm long and 1–3\\xa0cm broad. The leaves are opposite each other. The flowers are quite big. They are white in color and arranged as a spike. The plant tastes somewhat like anise, with a strong, pungent, sweet smell. Basil is very sensitive to cold. It is best grown in hot, dry conditions. While most common varieties are treated as annuals, some are perennial, including African Blue and Holy Thai basil. The word \"basil\" comes from the Greek βασιλεύς (\"basileus\"), meaning \"royal\". This is because it is believed to have grown above the spot where St. Constantine and Helen discovered the Holy Cross. The \"Oxford English Dictionary\" quotes speculations that basil may have been used in \"some royal unguent, bath, or medicine\". Basil is still considered the \"king of herbs\" by many cookery authors. An alternative etymology has \"basil\" coming from the Latin word \"basilicus\", meaning dragon and being the root for basilisk, but this likely was a linguistic reworking of the word as brought from Greece.'),\n",
       " Document(metadata={'title': 'Roerich’s Pact', 'article_id': '259745'}, page_content='The Roerich Pact is a treaty on Protection of Artistic and Scientific Institutions and Historic Monuments, signed by the representatives of 21 states in the Oval Office of the White House on 15 April 1935. As of January 1, 1990, the Roerich Pact had been ratified by ten nations: Brazil, Chile, Colombia, Cuba, the Dominican Republic, El Salvador, Guatemala, Mexico, the United States, and Venezuela. It went into effect on 26 August 1935. The Government of India approved the Treaty in 1948, but did not take any further formal action. The Roerich Pact is also known as \"Pax Cultura\" (\"Cultural Peace\" or \"Peace through Culture\"). The most important part of the Roerich Pact is the legal recognition that the protection of culture is always more important than any military necessity. Russian painter and philosopher Nicholas Roerich (1874-1947) started the modern movement for the defense of cultural objects, in order for a “Peace of Civilizations”. Nicholas Roerich was born on October 9, 1874, in St. Petersburg. He became a successful painter. One of his paintings was purchased by Nicholas II of Russia.'),\n",
       " Document(metadata={'title': 'Nico Hülkenberg', 'article_id': '260252'}, page_content='Nicolas \"Nico\" Hülkenberg (born 19 August 1987 in Emmerich am Rhein, North Rhine-Westphalia) is a German racing driver. He races in Formula One for Williams. He won the 2009 GP2 Series championship. He is a past champion in Formula Three Euroseries and the A1 Grand Prix, as part of A1 Team Germany. He is one of three drivers to win the GP2 series championship in his first season. The other two are Lewis Hamilton and Nico Rosberg. Hülkenberg earned his first pole position at the Brazilian Grand Prix. His lap time was over one second faster than second place Sebastian Vettel on a drying circuit. It was the first pole for Williams in 100 races, since the European Grand Prix. After the Abu Dhabi GP, it was announced that Hülkenberg would not race for Williams in 2011. For the season, he is the third driver for the Force India team.')]"
      ]
     },
     "execution_count": 8,
     "metadata": {},
     "output_type": "execute_result"
    }
   ],
   "source": [
    "chunked_docs[:3]"
   ]
  },
  {
   "cell_type": "markdown",
   "metadata": {},
   "source": [
    "## Create a Vector DB and persist on disk"
   ]
  },
  {
   "cell_type": "code",
   "execution_count": 9,
   "metadata": {},
   "outputs": [],
   "source": [
    "from langchain_chroma import Chroma"
   ]
  },
  {
   "cell_type": "code",
   "execution_count": 10,
   "metadata": {},
   "outputs": [],
   "source": [
    "# create a vector db\n",
    "chroma_db = Chroma.from_documents(\n",
    "    documents=chunked_docs,\n",
    "    collection_name='rag_wikipedia_db',\n",
    "    embedding=openai_embeddings,\n",
    "    collection_metadata={\"hnsw:space\": \"cosine\"},\n",
    "    persist_directory=\"../wikipedia_db\"\n",
    ")"
   ]
  },
  {
   "cell_type": "markdown",
   "metadata": {},
   "source": [
    "### Define a retrieval"
   ]
  },
  {
   "cell_type": "code",
   "execution_count": 13,
   "metadata": {},
   "outputs": [],
   "source": [
    "similarity_threshold_retriever = chroma_db.as_retriever(\n",
    "    search_type=\"similarity_score_threshold\",\n",
    "    search_kwargs={\n",
    "        \"k\": 3,\n",
    "        \"score_threshold\": 0.3\n",
    "    }\n",
    ")"
   ]
  },
  {
   "cell_type": "code",
   "execution_count": 14,
   "metadata": {},
   "outputs": [
    {
     "data": {
      "text/plain": [
       "[Document(metadata={'article_id': '5117', 'title': 'New Delhi'}, page_content='New Delhi () is the capital of India and a union territory of the megacity of Delhi. It has a very old history and is home to several monuments where the city is expensive to live in. In traditional Indian geography it falls under the North Indian zone. The city has an area of about 42.7\\xa0km. New Delhi has a population of about 9.4 Million people.'),\n",
       " Document(metadata={'article_id': '5117', 'title': 'New Delhi'}, page_content='New Delhi () is the capital of India and a union territory of the megacity of Delhi. It has a very old history and is home to several monuments where the city is expensive to live in. In traditional Indian geography it falls under the North Indian zone. The city has an area of about 42.7\\xa0km. New Delhi has a population of about 9.4 Million people.'),\n",
       " Document(metadata={'article_id': '5114', 'title': 'Mumbai'}, page_content=\"Mumbai (previously known as Bombay until 1996) is a natural harbor on the west coast of India, and is the capital city of Maharashtra state. It is India's largest city, and one of the world's most populous cities. It is the financial capital of India. The city is the second most-populous in the world. It has approximately 13 million people. Along with the neighboring cities of Navi Mumbai and Thane, it forms the world's 4th largest urban agglomeration. They have around 19.1 million people. The seven islands that form Bombay were home to fishing colonies. The islands were ruled by successive kingdoms and indigenous empires before Portuguese settlers took it. Then, it went to the British East India Company. During the mid-18th century, Bombay became a major trading town. It became a strong place for the Indian independence movement during the early 20th century. When India became independent in 1947, the city was put into Bombay State. In 1960, following the Samyukta Maharashtra movement, a new state of Maharashtra was created with Bombay as the capital. It was renamed Mumbai in 1996. Mumbai generates more than 6% of India's GDP. It accounts for 25% of industrial output, 40% of sea trade, and 70% of capital to India's economy. The Reserve Bank of India, the Bombay Stock Exchange, the National Stock Exchange of India and many Indian companies and multinational corporations are in the city. It also has the Hindi film and television industry, known as Bollywood.\")]"
      ]
     },
     "execution_count": 14,
     "metadata": {},
     "output_type": "execute_result"
    }
   ],
   "source": [
    "# test the rertriever\n",
    "query = \"What is the capital of India?\"\n",
    "top_k_docs = similarity_threshold_retriever.invoke(query)\n",
    "top_k_docs"
   ]
  },
  {
   "cell_type": "markdown",
   "metadata": {},
   "source": []
  },
  {
   "cell_type": "code",
   "execution_count": 15,
   "metadata": {},
   "outputs": [
    {
     "data": {
      "text/plain": [
       "[Document(metadata={'article_id': '123162', 'title': 'Lubanki'}, page_content='Lubanki, also known as Labanki, is an Indo-Aryan language spoken by the Lubanas tribal grouping in the Republic of India and Pakistan. It is classified as a form or dialect of Punjabi. Lubanki has been spoken in the Rajasthan and Gujarat areas and some areas of Pakistan. The Punjabi word tanda is allegedly of Lubanki origin and means a town. The dialect is almost extinct. With the loss of the language\\'s prestige and status, most Lubanas now speak other forms of Punjabi as their primary language. When Guru Tegh Bahadur Was discovered by Baba Makhan Shah Labana, Makhan Shah climbed on top a village roof and started shouting the famous line Guru ladho rae \"The Guru has been found\", which is alleged to be in Lubanki dialect.'),\n",
       " Document(metadata={'article_id': '123162', 'title': 'Lubanki'}, page_content='Lubanki, also known as Labanki, is an Indo-Aryan language spoken by the Lubanas tribal grouping in the Republic of India and Pakistan. It is classified as a form or dialect of Punjabi. Lubanki has been spoken in the Rajasthan and Gujarat areas and some areas of Pakistan. The Punjabi word tanda is allegedly of Lubanki origin and means a town. The dialect is almost extinct. With the loss of the language\\'s prestige and status, most Lubanas now speak other forms of Punjabi as their primary language. When Guru Tegh Bahadur Was discovered by Baba Makhan Shah Labana, Makhan Shah climbed on top a village roof and started shouting the famous line Guru ladho rae \"The Guru has been found\", which is alleged to be in Lubanki dialect.')]"
      ]
     },
     "execution_count": 15,
     "metadata": {},
     "output_type": "execute_result"
    }
   ],
   "source": [
    "# another test\n",
    "query = \"What is langgraph?\"\n",
    "top_k_docs = similarity_threshold_retriever.invoke(query)\n",
    "print(top_k_docs)\n",
    "\n",
    "# so as see the retriver has not the hability to answer this particular question cause the data\n",
    "# ingested has no information about langgraph. In this case need to grade either the reponse is\n",
    "# valid or not"
   ]
  },
  {
   "cell_type": "code",
   "execution_count": 16,
   "metadata": {},
   "outputs": [],
   "source": [
    "from langchain_core.prompts import ChatPromptTemplate\n",
    "from langchain_core.pydantic_v1 import BaseModel, Field\n",
    "from langchain_openai import ChatOpenAI"
   ]
  },
  {
   "cell_type": "code",
   "execution_count": 17,
   "metadata": {},
   "outputs": [],
   "source": [
    "# Now create the query retrieval grader\n",
    "class GradeDocuments(BaseModel):\n",
    "    \"\"\"\n",
    "    Binary score for relevance check on retrieved documents\n",
    "    \"\"\"\n",
    "    binary_score: str = Field(\n",
    "        description=\"Documents are relevant to the question, 'yes' or 'no'\"\n",
    "    )"
   ]
  },
  {
   "cell_type": "code",
   "execution_count": 18,
   "metadata": {},
   "outputs": [],
   "source": [
    "# define LLM to be the grader\n",
    "llm = ChatOpenAI(model=\"gpt-4o-mini\", temperature=0.0)\n",
    "structured_llm_grader = llm.with_structured_output(GradeDocuments)"
   ]
  },
  {
   "cell_type": "code",
   "execution_count": null,
   "metadata": {},
   "outputs": [],
   "source": [
    "# now define roles\n",
    "SYS_PROMPT = \"\"\"\n",
    "    You are an expert grader assessing relevance of a retrieved document to a user question.\n",
    "    Follow these instructions for grading:\n",
    "        - If the document contains keyword(s) or semantic meaning related to the question, grade it as relevant.\n",
    "        - Your grade should be either 'yes' or 'no' to indicate whether the document is relevant to the question or not. \n",
    "\"\"\"\n",
    "prompt = \"\"\"\n",
    "    Retrieved document:\n",
    "    {document}\n",
    "\n",
    "    User question:\n",
    "    {question}\n",
    "\"\"\"\n",
    "grade_prompt = ChatPromptTemplate.from_messages(\n",
    "    [\n",
    "        (\"system\", SYS_PROMPT),\n",
    "        (\"human\", prompt)\n",
    "    ]\n",
    ")\n",
    "# build grader chain\n",
    "doc_grader = (grade_prompt | structured_llm_grader)"
   ]
  },
  {
   "cell_type": "code",
   "execution_count": 22,
   "metadata": {},
   "outputs": [
    {
     "name": "stdout",
     "output_type": "stream",
     "text": [
      "New Delhi () is the capital of India and a union territory of the megacity of Delhi. It has a very old history and is home to several monuments where the city is expensive to live in. In traditional Indian geography it falls under the North Indian zone. The city has an area of about 42.7 km. New Delhi has a population of about 9.4 Million people.\n",
      "GRADE: binary_score='yes'\n",
      "\n",
      "New Delhi () is the capital of India and a union territory of the megacity of Delhi. It has a very old history and is home to several monuments where the city is expensive to live in. In traditional Indian geography it falls under the North Indian zone. The city has an area of about 42.7 km. New Delhi has a population of about 9.4 Million people.\n",
      "GRADE: binary_score='yes'\n",
      "\n",
      "Mumbai (previously known as Bombay until 1996) is a natural harbor on the west coast of India, and is the capital city of Maharashtra state. It is India's largest city, and one of the world's most populous cities. It is the financial capital of India. The city is the second most-populous in the world. It has approximately 13 million people. Along with the neighboring cities of Navi Mumbai and Thane, it forms the world's 4th largest urban agglomeration. They have around 19.1 million people. The seven islands that form Bombay were home to fishing colonies. The islands were ruled by successive kingdoms and indigenous empires before Portuguese settlers took it. Then, it went to the British East India Company. During the mid-18th century, Bombay became a major trading town. It became a strong place for the Indian independence movement during the early 20th century. When India became independent in 1947, the city was put into Bombay State. In 1960, following the Samyukta Maharashtra movement, a new state of Maharashtra was created with Bombay as the capital. It was renamed Mumbai in 1996. Mumbai generates more than 6% of India's GDP. It accounts for 25% of industrial output, 40% of sea trade, and 70% of capital to India's economy. The Reserve Bank of India, the Bombay Stock Exchange, the National Stock Exchange of India and many Indian companies and multinational corporations are in the city. It also has the Hindi film and television industry, known as Bollywood.\n",
      "GRADE: binary_score='no'\n",
      "\n"
     ]
    }
   ],
   "source": [
    "# test it\n",
    "query = \"What is the capital of India?\"\n",
    "top_k_docs = similarity_threshold_retriever.invoke(query)\n",
    "for doc in top_k_docs:\n",
    "    print(doc.page_content)\n",
    "    print('GRADE:', doc_grader.invoke({\"question\": query, \"document\": doc.page_content}))\n",
    "    print()"
   ]
  },
  {
   "cell_type": "code",
   "execution_count": 23,
   "metadata": {},
   "outputs": [
    {
     "name": "stdout",
     "output_type": "stream",
     "text": [
      "Lubanki, also known as Labanki, is an Indo-Aryan language spoken by the Lubanas tribal grouping in the Republic of India and Pakistan. It is classified as a form or dialect of Punjabi. Lubanki has been spoken in the Rajasthan and Gujarat areas and some areas of Pakistan. The Punjabi word tanda is allegedly of Lubanki origin and means a town. The dialect is almost extinct. With the loss of the language's prestige and status, most Lubanas now speak other forms of Punjabi as their primary language. When Guru Tegh Bahadur Was discovered by Baba Makhan Shah Labana, Makhan Shah climbed on top a village roof and started shouting the famous line Guru ladho rae \"The Guru has been found\", which is alleged to be in Lubanki dialect.\n",
      "GRADE: binary_score='no'\n",
      "\n",
      "Lubanki, also known as Labanki, is an Indo-Aryan language spoken by the Lubanas tribal grouping in the Republic of India and Pakistan. It is classified as a form or dialect of Punjabi. Lubanki has been spoken in the Rajasthan and Gujarat areas and some areas of Pakistan. The Punjabi word tanda is allegedly of Lubanki origin and means a town. The dialect is almost extinct. With the loss of the language's prestige and status, most Lubanas now speak other forms of Punjabi as their primary language. When Guru Tegh Bahadur Was discovered by Baba Makhan Shah Labana, Makhan Shah climbed on top a village roof and started shouting the famous line Guru ladho rae \"The Guru has been found\", which is alleged to be in Lubanki dialect.\n",
      "GRADE: binary_score='no'\n",
      "\n"
     ]
    }
   ],
   "source": [
    "# Again with the langgraph question\n",
    "query = \"What is langgraph?\"\n",
    "top_k_docs = similarity_threshold_retriever.invoke(query)\n",
    "for doc in top_k_docs:\n",
    "    print(doc.page_content)\n",
    "    print('GRADE:', doc_grader.invoke({\"question\": query, \"document\": doc.page_content}))\n",
    "    print()"
   ]
  },
  {
   "cell_type": "markdown",
   "metadata": {},
   "source": [
    "## Create a QA RAG Chain"
   ]
  },
  {
   "cell_type": "code",
   "execution_count": 24,
   "metadata": {},
   "outputs": [],
   "source": [
    "from langchain_core.runnables import RunnablePassthrough, RunnableLambda\n",
    "from langchain_core.output_parsers import StrOutputParser\n",
    "from operator import itemgetter"
   ]
  },
  {
   "cell_type": "code",
   "execution_count": 25,
   "metadata": {},
   "outputs": [],
   "source": [
    "def format_docs(docs):\n",
    "    return \"\\n\\n\".join(doc.page_content for doc in docs)"
   ]
  },
  {
   "cell_type": "code",
   "execution_count": 26,
   "metadata": {},
   "outputs": [],
   "source": [
    "prompt = \"\"\"\n",
    "    You are an assistant for question-answering tasks.\n",
    "    Use the following pieces of retrieved context to answer the question.\n",
    "    If no context is present or if you don't know the answer, just say that you don't know the answer.\n",
    "    Do not make up the answer unless it is there in the provided context.\n",
    "    Give a detailed answer and to the point answer with regard to the question.\n",
    "\n",
    "    Question:\n",
    "    {question}\n",
    "\n",
    "    Context:\n",
    "    {context}\n",
    "\n",
    "    Answer:\n",
    "\"\"\"\n",
    "prompt_template = ChatPromptTemplate.from_template(prompt)\n",
    "chat_model = ChatOpenAI(model=\"gpt-4o-mini\", temperature=0.0)\n",
    "# define the RAG chain passing context and functions to run\n",
    "qa_rag_chain = (\n",
    "    {\n",
    "        \"context\": (itemgetter(\"context\") | RunnableLambda(format_docs)),\n",
    "        \"question\": itemgetter(\"question\")\n",
    "    }\n",
    "    | prompt_template\n",
    "    | chat_model\n",
    "    | StrOutputParser()\n",
    ")"
   ]
  },
  {
   "cell_type": "code",
   "execution_count": 27,
   "metadata": {},
   "outputs": [
    {
     "name": "stdout",
     "output_type": "stream",
     "text": [
      "The capital of India is New Delhi. It is a union territory within the megacity of Delhi and has a rich history, featuring several monuments. New Delhi covers an area of about 42.7 km and has a population of approximately 9.4 million people.\n"
     ]
    }
   ],
   "source": [
    "# test it. Now it prints only the relevant answer from documents retrieved\n",
    "query = \"What is the capital of India?\"\n",
    "top_k_docs = similarity_threshold_retriever.invoke(query)\n",
    "result = qa_rag_chain.invoke({\"context\": top_k_docs, \"question\": query})\n",
    "print(result)"
   ]
  },
  {
   "cell_type": "code",
   "execution_count": 28,
   "metadata": {},
   "outputs": [
    {
     "name": "stderr",
     "output_type": "stream",
     "text": [
      "No relevant docs were retrieved using the relevance score threshold 0.3\n"
     ]
    },
    {
     "name": "stdout",
     "output_type": "stream",
     "text": [
      "I don't know the answer.\n"
     ]
    }
   ],
   "source": [
    "# With this QA approach, the model does not come up with an answer for the langgraph question.\n",
    "# cause the retrieved documents has no data relevant to the question\n",
    "query = \"What is langchain?\"\n",
    "top_k_docs = similarity_threshold_retriever.invoke(query)\n",
    "result = qa_rag_chain.invoke({\"context\": top_k_docs, \"question\": query})\n",
    "print(result)"
   ]
  },
  {
   "cell_type": "markdown",
   "metadata": {},
   "source": [
    "## Create a Query Rephraser\n",
    "It maybe that the answer is not relevant due to the quality of the user query. Then let's create a query rephraser to make it more accurate."
   ]
  },
  {
   "cell_type": "code",
   "execution_count": 29,
   "metadata": {},
   "outputs": [],
   "source": [
    "# define an LLM\n",
    "llm = ChatOpenAI(model=\"gpt-4o-mini\", temperature=0.0)\n",
    "\n",
    "# Prompt template for rewriting\n",
    "SYS_PROMPT = \"\"\"\n",
    "    Act as a question re-writer and perform the following task:\n",
    "    - Convert the following input question to a better version that is optimized for web search.\n",
    "    - When re-writing, look at the input question and try to reason about the underlying semantic intent / meaning.\n",
    "\"\"\"\n",
    "prompt = \"\"\"\n",
    "    Here is the initial question:\n",
    "    {question}\n",
    "\n",
    "    Formulate an improved question.\n",
    "\"\"\"\n",
    "# now create a re-write prompt\n",
    "re_write_prompt = ChatPromptTemplate.from_messages(\n",
    "    [\n",
    "        (\"system\", SYS_PROMPT),\n",
    "        (\"human\", prompt)\n",
    "    ]\n",
    ")\n",
    "# chain\n",
    "question_rewriter = (re_write_prompt | llm | StrOutputParser())"
   ]
  },
  {
   "cell_type": "code",
   "execution_count": 30,
   "metadata": {},
   "outputs": [
    {
     "data": {
      "text/plain": [
       "'What is LangChain and how is it used in programming?'"
      ]
     },
     "execution_count": 30,
     "metadata": {},
     "output_type": "execute_result"
    }
   ],
   "source": [
    "query = \"What is langchain?\"\n",
    "question_rewriter.invoke({\"question\": query})"
   ]
  },
  {
   "cell_type": "markdown",
   "metadata": {},
   "source": [
    "## Load web search tool\n",
    "Now start creating tools for those cases the retrieval information does not match the query."
   ]
  },
  {
   "cell_type": "code",
   "execution_count": null,
   "metadata": {},
   "outputs": [],
   "source": []
  }
 ],
 "metadata": {
  "kernelspec": {
   "display_name": "llm",
   "language": "python",
   "name": "python3"
  },
  "language_info": {
   "codemirror_mode": {
    "name": "ipython",
    "version": 3
   },
   "file_extension": ".py",
   "mimetype": "text/x-python",
   "name": "python",
   "nbconvert_exporter": "python",
   "pygments_lexer": "ipython3",
   "version": "3.9.16"
  }
 },
 "nbformat": 4,
 "nbformat_minor": 2
}
