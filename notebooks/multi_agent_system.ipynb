{
 "cells": [
  {
   "cell_type": "markdown",
   "metadata": {},
   "source": [
    "# Multi-agent systems.\n",
    "The general idea is to create a system based on multiple agents that can handle specific tasks rather than using one single agent that can perform multiple ones.</br>"
   ]
  },
  {
   "cell_type": "code",
   "execution_count": 1,
   "metadata": {},
   "outputs": [],
   "source": [
    "import os\n",
    "from pathlib import Path\n",
    "from dotenv import load_dotenv"
   ]
  },
  {
   "cell_type": "code",
   "execution_count": 2,
   "metadata": {},
   "outputs": [
    {
     "data": {
      "text/plain": [
       "True"
      ]
     },
     "execution_count": 2,
     "metadata": {},
     "output_type": "execute_result"
    }
   ],
   "source": [
    "load_dotenv(Path.cwd().parent / \".env\")"
   ]
  },
  {
   "cell_type": "markdown",
   "metadata": {},
   "source": [
    "## Create tools"
   ]
  },
  {
   "cell_type": "code",
   "execution_count": 3,
   "metadata": {},
   "outputs": [],
   "source": [
    "from typing import Annotated\n",
    "from langchain_community.tools.tavily_search import TavilySearchResults\n",
    "from langchain_core.tools import tool\n",
    "from langchain_experimental.utilities import PythonREPL"
   ]
  },
  {
   "cell_type": "code",
   "execution_count": 4,
   "metadata": {},
   "outputs": [],
   "source": [
    "repl = PythonREPL()\n",
    "\n",
    "@tool\n",
    "def python_repl(code: Annotated[str, \"Python code to execute\"]):\n",
    "    \"\"\"\n",
    "    This function will create a python script to generate a chart\n",
    "    based on user query.\n",
    "    \"\"\"\n",
    "    try:\n",
    "        result = repl.run(code)\n",
    "    except BaseException as e:\n",
    "        return f\"Failed to excute code: {e}\"\n",
    "    \n",
    "    result_str = f\"Succesfully excecuted:\\n```python\\n{code}\\n```Stdout: {result}\"\n",
    "\n",
    "    return (result_str + \"\\n\\nIf you have completed all tasks, respond with FINAL ANSWER.\")"
   ]
  },
  {
   "cell_type": "markdown",
   "metadata": {},
   "source": [
    "## Graph State"
   ]
  },
  {
   "cell_type": "code",
   "execution_count": 5,
   "metadata": {},
   "outputs": [],
   "source": [
    "import operator\n",
    "from typing import Sequence, TypedDict\n",
    "from langchain_core.messages import BaseMessage"
   ]
  },
  {
   "cell_type": "code",
   "execution_count": 6,
   "metadata": {},
   "outputs": [],
   "source": [
    "class AgentState(TypedDict):\n",
    "    messages: Annotated[Sequence[BaseMessage], operator.add]\n",
    "    sender: str"
   ]
  },
  {
   "cell_type": "markdown",
   "metadata": {},
   "source": [
    "## Create Agents.\n",
    "This system will have to agents:\n",
    "1. The `researcher agent` access the web using the search tool to get information about user query.\n",
    "2. The `chart agent` will use Python to cretae visuals."
   ]
  },
  {
   "cell_type": "code",
   "execution_count": 9,
   "metadata": {},
   "outputs": [],
   "source": [
    "from langchain_openai import ChatOpenAI\n",
    "from langchain_core.prompts import ChatPromptTemplate, MessagesPlaceholder"
   ]
  },
  {
   "cell_type": "code",
   "execution_count": 10,
   "metadata": {},
   "outputs": [],
   "source": [
    "llm = ChatOpenAI(model=\"gpt-4o-mini\")\n",
    "\n",
    "# -------------------------- Research agent -------------------------- #\n",
    "tv_search = TavilySearchResults(max_results=5, search_depth=\"advanced\", max_tokens=1e5)\n",
    "search_tool = [tv_search]\n",
    "search_tool_name = tv_search.name\n",
    "research_prompt = ChatPromptTemplate.from_messages(\n",
    "    [\n",
    "        (\n",
    "            \"system\",\n",
    "            f\"\"\"\n",
    "            You are a helpful AI assistant, collaborating with other assistants.\n",
    "            Use the provided tools to progress towards answering the question.\n",
    "            If you are unable to fully answer, that's OK,\n",
    "            another assistant with different tools will help where you left off.\n",
    "            Execute what you can to make progress.\n",
    "            If you or any of the other assistants have the final answer or deliverable,\n",
    "            prefix your response with FINAL ANSWER so the team knows to stop.\n",
    "\n",
    "            You have access to the following tools:\n",
    "            {search_tool_name}\n",
    "\n",
    "            You should provide accurate data for use\n",
    "            and source code shouldn't be the final answer\n",
    "            \"\"\"\n",
    "        ),\n",
    "        MessagesPlaceholder(variable_name=\"messages\")\n",
    "    ]\n",
    ")\n",
    "\n",
    "reseach_agent = (research_prompt | llm.bind_tools(search_tool))\n",
    "\n",
    "# -------------------------- Chart agent -------------------------- #\n",
    "chart_tool = [python_repl]\n",
    "chart_tool_name = python_repl.name\n",
    "chart_prompt = ChatPromptTemplate.from_messages(\n",
    "    [\n",
    "        (\n",
    "            \"system\",\n",
    "            f\"\"\"\n",
    "            You are a helpful AI assistant, collaborating with other assistants.\n",
    "            Use the provided tools to progress towards answering the question.\n",
    "            If you are unable to fully answer, that's OK,\n",
    "            another assistant with different tools will help where you left off.\n",
    "            Execute what you can to make progress.\n",
    "            If you or any of the other assistants have the final answer or deliverable,\n",
    "            prefix your response with FINAL ANSWER so the team knows to stop.\n",
    "\n",
    "            You have access to the following tools:\n",
    "            {chart_tool_name}\n",
    "\n",
    "            Run the python code to display the chart\n",
    "            \"\"\"\n",
    "        ),\n",
    "        MessagesPlaceholder(variable_name=\"messages\")\n",
    "    ]\n",
    ")\n",
    "\n",
    "chart_agent = (chart_prompt | llm.bind_tools(chart_tool))"
   ]
  },
  {
   "cell_type": "markdown",
   "metadata": {},
   "source": []
  }
 ],
 "metadata": {
  "kernelspec": {
   "display_name": "llm",
   "language": "python",
   "name": "python3"
  },
  "language_info": {
   "codemirror_mode": {
    "name": "ipython",
    "version": 3
   },
   "file_extension": ".py",
   "mimetype": "text/x-python",
   "name": "python",
   "nbconvert_exporter": "python",
   "pygments_lexer": "ipython3",
   "version": "3.9.16"
  }
 },
 "nbformat": 4,
 "nbformat_minor": 2
}
